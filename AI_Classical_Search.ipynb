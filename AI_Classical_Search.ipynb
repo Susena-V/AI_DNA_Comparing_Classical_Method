{
  "nbformat": 4,
  "nbformat_minor": 0,
  "metadata": {
    "colab": {
      "provenance": []
    },
    "kernelspec": {
      "name": "python3",
      "display_name": "Python 3"
    },
    "language_info": {
      "name": "python"
    }
  },
  "cells": [
    {
      "cell_type": "markdown",
      "source": [
        "#AI CLASSICAL SEARCH ASSIGNMENT\n",
        "\n",
        "The following is a code to compare DNA sequences\n",
        "\n",
        "It first compares cleans the sequences then checks if they are valid\n",
        "\n",
        "Once that is done it first compares the sequences and calculates the score\n",
        "\n",
        "After this one of the sequences is complemented and the comparison is run again and score is once again calculated.\n",
        "\n",
        "Whichever score is higher that score is shown\n",
        "\n",
        "###Why compare with the complement?\n",
        "\n",
        "  The reason for complementing a sequence is because DNA has a double helical structure with two parallel yet complemented sequences. DNA has 4 nitrogen bases Adenine, Guanine, Cytosine and Thymine. A(Adenine) is always paired with T(Thymine) via a hydrogen double bond and C(Cytosine) is always paired with G(Guanine) via a hydrogen triple bond.\n",
        "\n",
        "  So when we compare the DNA from two different people we are taking one strand from each and compare.\n",
        "\n",
        "  Lets say sequence from person A is AGTCAGTC and sequence from person B is TCAGTCAG.\n",
        "\n",
        "  Now, when comparing both sequences we initially think they are different.\n",
        "  Let us complement DNA of person A.\n",
        "  The complemented sequence is TCAGTCAG which is the same as person B!"
      ],
      "metadata": {
        "id": "JlJPlgftoJcg"
      }
    },
    {
      "cell_type": "markdown",
      "source": [
        "Defining the Functions required for the DNA comparing"
      ],
      "metadata": {
        "id": "oqwOnWvLnU9m"
      }
    },
    {
      "cell_type": "code",
      "source": [
        "#Create a function checker to check if the sequence is only made up of A, C, T, G and \\s\n",
        "def checker(s):\n",
        "    pattern=['A','G','T','C',' ']\n",
        "    for i in s:\n",
        "        if i not in pattern:\n",
        "            return False\n",
        "    return True\n",
        "\n",
        "#Define a function to compare the DNA sequences\n",
        "##The \"second\" sequence is \"shorter\" sequence\n",
        "def comparer(seq1,seq2):\n",
        "    #Calculate the score by comparing each element in both strings\n",
        "    score = 0\n",
        "    for i in range(len(seq2)):\n",
        "        if seq1[i] == seq2[i]:\n",
        "            score+=5\n",
        "        else:\n",
        "            if seq1[i]==\" \" or seq2[i] ==\" \":\n",
        "                score-=12\n",
        "            score-=4\n",
        "    return score\n",
        "\n",
        "#The below function complements a sequence of DNA\n",
        "def complementer(s):\n",
        "    dna={'A':'T','T':'A','G':'C','C':'G',\" \":\" \"}\n",
        "    comp_s=\"\"\n",
        "    for i in s:\n",
        "        comp_s=comp_s+dna[i]\n",
        "\n",
        "    return comp_s\n",
        "\n",
        "#Function to get input and manipulate it\n",
        "def get_input():\n",
        "  #Getting the input DNA sequences from the user\n",
        "  seq1=input(\"Enter the 1st DNA sequence: \")\n",
        "  seq2=input(\"Enter the 2nd DNA sequence: \")\n",
        "\n",
        "  #Convert the characters to upper case and replace '_' and '-' with ' '\n",
        "  seq1=seq1.upper().replace('_',\" \").replace('-',\" \")\n",
        "  seq2=seq2.upper().replace('_',\" \").replace('-',\" \")\n",
        "\n",
        "  return seq1,seq2\n",
        "\n",
        "#The function that runs a valid sequence\n",
        "def run(seq1,seq2):\n",
        "    score=0\n",
        "    score_comp=0\n",
        "\n",
        "    if len(seq1)>=len(seq2):\n",
        "        score=comparer(seq1,seq2)\n",
        "        score_comp=comparer(seq1,complementer(seq2))\n",
        "    else:\n",
        "        score = comparer(seq2,seq1)\n",
        "        score_comp=comparer(seq2,complementer(seq1))\n",
        "\n",
        "    if score>=score_comp:\n",
        "        print(f\"Score is {score}\")\n",
        "    else:\n",
        "        print(f\"Score is {score_comp}\")"
      ],
      "metadata": {
        "id": "Y8hloGF2mHe7"
      },
      "execution_count": 1,
      "outputs": []
    },
    {
      "cell_type": "markdown",
      "source": [
        "The function to run the whole code and gets input sequences again if they are wrong"
      ],
      "metadata": {
        "id": "5xEWUGJBnb_S"
      }
    },
    {
      "cell_type": "code",
      "source": [
        "#Main running function that gets the input again if the input is wrong\n",
        "def runner():\n",
        "  seq1,seq2=get_input()\n",
        "  if checker(seq1) and checker(seq2) ==True:\n",
        "    run(seq1,seq2)\n",
        "  else:\n",
        "    print(\"Enter the DNA Sequences again\")\n",
        "    runner()"
      ],
      "metadata": {
        "id": "Crcy8Y8HmKwM"
      },
      "execution_count": 2,
      "outputs": []
    },
    {
      "cell_type": "markdown",
      "source": [
        "Running the whole code by calling runner function"
      ],
      "metadata": {
        "id": "AwA3bmeVnxWu"
      }
    },
    {
      "cell_type": "code",
      "source": [
        "runner()"
      ],
      "metadata": {
        "colab": {
          "base_uri": "https://localhost:8080/"
        },
        "id": "6HE3eoULmfWV",
        "outputId": "d27769b3-6fae-41e5-8dbf-18288933d0e5"
      },
      "execution_count": 5,
      "outputs": [
        {
          "output_type": "stream",
          "name": "stdout",
          "text": [
            "Enter the 1st DNA sequence: AA\n",
            "Enter the 2nd DNA sequence: GG\n",
            "Score is -8\n"
          ]
        }
      ]
    }
  ]
}